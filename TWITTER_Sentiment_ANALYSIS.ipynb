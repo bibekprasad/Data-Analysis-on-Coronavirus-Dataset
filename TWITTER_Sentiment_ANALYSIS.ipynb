{
  "nbformat": 4,
  "nbformat_minor": 0,
  "metadata": {
    "colab": {
      "name": "Copy of TWITTER ANALYSIS.ipynb",
      "provenance": [],
      "collapsed_sections": [],
      "authorship_tag": "ABX9TyO/+5i4U3m8NJ1RBo8Ly9TA",
      "include_colab_link": true
    },
    "kernelspec": {
      "name": "python3",
      "display_name": "Python 3"
    }
  },
  "cells": [
    {
      "cell_type": "markdown",
      "metadata": {
        "id": "view-in-github",
        "colab_type": "text"
      },
      "source": [
        "<a href=\"https://colab.research.google.com/github/bibekprasad/Data-Analysis-on-Coronavirus-Dataset/blob/master/TWITTER_Sentiment_ANALYSIS.ipynb\" target=\"_parent\"><img src=\"https://colab.research.google.com/assets/colab-badge.svg\" alt=\"Open In Colab\"/></a>"
      ]
    },
    {
      "cell_type": "code",
      "metadata": {
        "id": "5GrPEIQ03Cbh",
        "colab_type": "code",
        "colab": {}
      },
      "source": [
        "import os\n",
        "import tweepy as tw"
      ],
      "execution_count": 0,
      "outputs": []
    },
    {
      "cell_type": "code",
      "metadata": {
        "id": "80bJ8rW2bMJx",
        "colab_type": "code",
        "colab": {}
      },
      "source": [
        "##Create API TOKEN FROM TWITTER DEVELOPER APP"
      ],
      "execution_count": 0,
      "outputs": []
    },
    {
      "cell_type": "code",
      "metadata": {
        "id": "2tO-KKx49JY9",
        "colab_type": "code",
        "colab": {}
      },
      "source": [
        "ACCESS_TOKEN = 'XXXXXXXXXXXX'\n",
        "ACCESS_SECRET = 'XXXXXXXXXXXX'\n",
        "CONSUMER_KEY = 'XXXXXXXXXXXX'\n",
        "CONSUMER_SECRET = 'XXXXXXXXXXXX'"
      ],
      "execution_count": 0,
      "outputs": []
    },
    {
      "cell_type": "code",
      "metadata": {
        "id": "b-om-td06EjL",
        "colab_type": "code",
        "colab": {}
      },
      "source": [
        "auth=tw.OAuthHandler(CONSUMER_KEY,CONSUMER_SECRET )\n",
        "auth.set_access_token(ACCESS_TOKEN,ACCESS_SECRET)\n",
        "api=tw.API(auth,wait_on_rate_limit=True)"
      ],
      "execution_count": 0,
      "outputs": []
    },
    {
      "cell_type": "code",
      "metadata": {
        "id": "vUjML2gl6dgm",
        "colab_type": "code",
        "colab": {}
      },
      "source": [
        "searchwords=\"#coronavirus\"\n",
        "Date_since=\"2020-03-20\""
      ],
      "execution_count": 0,
      "outputs": []
    },
    {
      "cell_type": "code",
      "metadata": {
        "id": "HeH3NjlV9rCD",
        "colab_type": "code",
        "colab": {}
      },
      "source": [
        "tweets=tw.Cursor(api.search,\n",
        "                 q=searchwords,\n",
        "                 lang=\"en\",\n",
        "                 since=Date_since).items(100)"
      ],
      "execution_count": 0,
      "outputs": []
    },
    {
      "cell_type": "code",
      "metadata": {
        "id": "_bvQBBOw-V6R",
        "colab_type": "code",
        "outputId": "8eb0a48a-4694-44fd-a895-e5f0c8e5a890",
        "colab": {
          "base_uri": "https://localhost:8080/",
          "height": 34
        }
      },
      "source": [
        "tweets"
      ],
      "execution_count": 6,
      "outputs": [
        {
          "output_type": "execute_result",
          "data": {
            "text/plain": [
              "<tweepy.cursor.ItemIterator at 0x7fa75aa57438>"
            ]
          },
          "metadata": {
            "tags": []
          },
          "execution_count": 6
        }
      ]
    },
    {
      "cell_type": "code",
      "metadata": {
        "id": "0L_JO1RA-fXY",
        "colab_type": "code",
        "colab": {}
      },
      "source": [
        "tweet_details=[[tweet.geo,tweet.text,tweet.user.screen_name,tweet.user.location] for tweet in tweets]\n"
      ],
      "execution_count": 0,
      "outputs": []
    },
    {
      "cell_type": "code",
      "metadata": {
        "id": "bZPXit-b_HI3",
        "colab_type": "code",
        "colab": {}
      },
      "source": [
        "import pandas as pd"
      ],
      "execution_count": 0,
      "outputs": []
    },
    {
      "cell_type": "code",
      "metadata": {
        "id": "Rtp5hPiSACeQ",
        "colab_type": "code",
        "colab": {}
      },
      "source": [
        "tweet_df=pd.DataFrame(data=tweet_details,columns=[\"geo\",\"text\",\"name\",\"location\"])"
      ],
      "execution_count": 0,
      "outputs": []
    },
    {
      "cell_type": "code",
      "metadata": {
        "id": "P1yNxyrAAX1n",
        "colab_type": "code",
        "outputId": "c3fa0d7c-c382-4443-a17d-1c597bfcbd8f",
        "colab": {
          "base_uri": "https://localhost:8080/",
          "height": 111
        }
      },
      "source": [
        "tweet_df.head(2)"
      ],
      "execution_count": 10,
      "outputs": [
        {
          "output_type": "execute_result",
          "data": {
            "text/html": [
              "<div>\n",
              "<style scoped>\n",
              "    .dataframe tbody tr th:only-of-type {\n",
              "        vertical-align: middle;\n",
              "    }\n",
              "\n",
              "    .dataframe tbody tr th {\n",
              "        vertical-align: top;\n",
              "    }\n",
              "\n",
              "    .dataframe thead th {\n",
              "        text-align: right;\n",
              "    }\n",
              "</style>\n",
              "<table border=\"1\" class=\"dataframe\">\n",
              "  <thead>\n",
              "    <tr style=\"text-align: right;\">\n",
              "      <th></th>\n",
              "      <th>geo</th>\n",
              "      <th>text</th>\n",
              "      <th>name</th>\n",
              "      <th>location</th>\n",
              "    </tr>\n",
              "  </thead>\n",
              "  <tbody>\n",
              "    <tr>\n",
              "      <th>0</th>\n",
              "      <td>None</td>\n",
              "      <td>RT @HeshmatAlavi: Head of Lorestan Medical Sci...</td>\n",
              "      <td>EliavAbey</td>\n",
              "      <td>EU RT=support/worth noting</td>\n",
              "    </tr>\n",
              "    <tr>\n",
              "      <th>1</th>\n",
              "      <td>None</td>\n",
              "      <td>RT @joshuawongcf: 6/ Tonight’s assembly shows ...</td>\n",
              "      <td>heunggongyangy</td>\n",
              "      <td></td>\n",
              "    </tr>\n",
              "  </tbody>\n",
              "</table>\n",
              "</div>"
            ],
            "text/plain": [
              "    geo  ...                    location\n",
              "0  None  ...  EU RT=support/worth noting\n",
              "1  None  ...                            \n",
              "\n",
              "[2 rows x 4 columns]"
            ]
          },
          "metadata": {
            "tags": []
          },
          "execution_count": 10
        }
      ]
    },
    {
      "cell_type": "code",
      "metadata": {
        "id": "6il6ZgSgCIVz",
        "colab_type": "code",
        "colab": {}
      },
      "source": [
        "pd.set_option(\"max_colwidth\",800)"
      ],
      "execution_count": 0,
      "outputs": []
    },
    {
      "cell_type": "code",
      "metadata": {
        "id": "S77ApmK1WGEX",
        "colab_type": "code",
        "outputId": "c95470d2-5924-4941-94e2-b5a9496e3c74",
        "colab": {
          "base_uri": "https://localhost:8080/",
          "height": 128
        }
      },
      "source": [
        "tweet_df.head(2)"
      ],
      "execution_count": 12,
      "outputs": [
        {
          "output_type": "execute_result",
          "data": {
            "text/html": [
              "<div>\n",
              "<style scoped>\n",
              "    .dataframe tbody tr th:only-of-type {\n",
              "        vertical-align: middle;\n",
              "    }\n",
              "\n",
              "    .dataframe tbody tr th {\n",
              "        vertical-align: top;\n",
              "    }\n",
              "\n",
              "    .dataframe thead th {\n",
              "        text-align: right;\n",
              "    }\n",
              "</style>\n",
              "<table border=\"1\" class=\"dataframe\">\n",
              "  <thead>\n",
              "    <tr style=\"text-align: right;\">\n",
              "      <th></th>\n",
              "      <th>geo</th>\n",
              "      <th>text</th>\n",
              "      <th>name</th>\n",
              "      <th>location</th>\n",
              "    </tr>\n",
              "  </thead>\n",
              "  <tbody>\n",
              "    <tr>\n",
              "      <th>0</th>\n",
              "      <td>None</td>\n",
              "      <td>RT @HeshmatAlavi: Head of Lorestan Medical Sciences University, W #Iran\\n\"The Supreme National Security Council &amp;amp; the Health Ministry's Secu…</td>\n",
              "      <td>EliavAbey</td>\n",
              "      <td>EU RT=support/worth noting</td>\n",
              "    </tr>\n",
              "    <tr>\n",
              "      <th>1</th>\n",
              "      <td>None</td>\n",
              "      <td>RT @joshuawongcf: 6/ Tonight’s assembly shows that #coronavirus does not kill the spirit of #hongkongprotests. The plague will end one day.…</td>\n",
              "      <td>heunggongyangy</td>\n",
              "      <td></td>\n",
              "    </tr>\n",
              "  </tbody>\n",
              "</table>\n",
              "</div>"
            ],
            "text/plain": [
              "    geo  ...                    location\n",
              "0  None  ...  EU RT=support/worth noting\n",
              "1  None  ...                            \n",
              "\n",
              "[2 rows x 4 columns]"
            ]
          },
          "metadata": {
            "tags": []
          },
          "execution_count": 12
        }
      ]
    },
    {
      "cell_type": "code",
      "metadata": {
        "id": "eiDoxeaEWJ6U",
        "colab_type": "code",
        "outputId": "c12491b1-f570-4dea-d4e2-58614e79fff4",
        "colab": {
          "base_uri": "https://localhost:8080/",
          "height": 221
        }
      },
      "source": [
        "tweet_df.location.value_counts()"
      ],
      "execution_count": 13,
      "outputs": [
        {
          "output_type": "execute_result",
          "data": {
            "text/plain": [
              "                              31\n",
              "UK                             3\n",
              "Johannesburg, South Africa     2\n",
              "USA❤️🇺🇸                        2\n",
              "United States                  2\n",
              "                              ..\n",
              "Houston, TX                    1\n",
              "Commifornia                    1\n",
              "Brooklyn, NY                   1\n",
              "Dublin City, Ireland           1\n",
              "Lewis Center, OH               1\n",
              "Name: location, Length: 65, dtype: int64"
            ]
          },
          "metadata": {
            "tags": []
          },
          "execution_count": 13
        }
      ]
    },
    {
      "cell_type": "code",
      "metadata": {
        "id": "AU2xKKLemd0k",
        "colab_type": "code",
        "colab": {}
      },
      "source": [
        "import re"
      ],
      "execution_count": 0,
      "outputs": []
    },
    {
      "cell_type": "code",
      "metadata": {
        "id": "r13TklGIm773",
        "colab_type": "code",
        "colab": {}
      },
      "source": [
        "def clean_tweets(text):\n",
        "  text=re.sub(\"RT @[\\w]*:\",\"\",text)\n",
        "  text=re.sub(\"@[\\w]*\",\"\",text)\n",
        "  text=re.sub(\"https?://[A-Za-z0-9./]*\",\"\",text)\n",
        "  text=re.sub(\"\\n \",\"\",text)\n",
        "  return text\n",
        "\n"
      ],
      "execution_count": 0,
      "outputs": []
    },
    {
      "cell_type": "code",
      "metadata": {
        "id": "ZFSEREaIobCs",
        "colab_type": "code",
        "colab": {}
      },
      "source": [
        "tweet_df['text']=tweet_df['text'].apply(lambda x:clean_tweets(x))"
      ],
      "execution_count": 0,
      "outputs": []
    },
    {
      "cell_type": "code",
      "metadata": {
        "id": "rvYvgUbko6MS",
        "colab_type": "code",
        "outputId": "9ec7553d-418c-4dac-c209-301c0f03b17c",
        "colab": {
          "base_uri": "https://localhost:8080/",
          "height": 204
        }
      },
      "source": [
        "tweet_df.head()"
      ],
      "execution_count": 17,
      "outputs": [
        {
          "output_type": "execute_result",
          "data": {
            "text/html": [
              "<div>\n",
              "<style scoped>\n",
              "    .dataframe tbody tr th:only-of-type {\n",
              "        vertical-align: middle;\n",
              "    }\n",
              "\n",
              "    .dataframe tbody tr th {\n",
              "        vertical-align: top;\n",
              "    }\n",
              "\n",
              "    .dataframe thead th {\n",
              "        text-align: right;\n",
              "    }\n",
              "</style>\n",
              "<table border=\"1\" class=\"dataframe\">\n",
              "  <thead>\n",
              "    <tr style=\"text-align: right;\">\n",
              "      <th></th>\n",
              "      <th>geo</th>\n",
              "      <th>text</th>\n",
              "      <th>name</th>\n",
              "      <th>location</th>\n",
              "    </tr>\n",
              "  </thead>\n",
              "  <tbody>\n",
              "    <tr>\n",
              "      <th>0</th>\n",
              "      <td>None</td>\n",
              "      <td>Head of Lorestan Medical Sciences University, W #Iran\\n\"The Supreme National Security Council &amp;amp; the Health Ministry's Secu…</td>\n",
              "      <td>EliavAbey</td>\n",
              "      <td>EU RT=support/worth noting</td>\n",
              "    </tr>\n",
              "    <tr>\n",
              "      <th>1</th>\n",
              "      <td>None</td>\n",
              "      <td>6/ Tonight’s assembly shows that #coronavirus does not kill the spirit of #hongkongprotests. The plague will end one day.…</td>\n",
              "      <td>heunggongyangy</td>\n",
              "      <td></td>\n",
              "    </tr>\n",
              "    <tr>\n",
              "      <th>2</th>\n",
              "      <td>None</td>\n",
              "      <td>The Trump administration has been right to reject general sanctions relief. Iran's regime has no interest in its people's…</td>\n",
              "      <td>Jahbalon</td>\n",
              "      <td></td>\n",
              "    </tr>\n",
              "    <tr>\n",
              "      <th>3</th>\n",
              "      <td>None</td>\n",
              "      <td>White folks have turned #coronavirus into a #WhitePrivilege holiday keep your black ass in the house &amp;amp; stay safe!!!</td>\n",
              "      <td>MrMiddleFinger</td>\n",
              "      <td>Wakanda</td>\n",
              "    </tr>\n",
              "    <tr>\n",
              "      <th>4</th>\n",
              "      <td>None</td>\n",
              "      <td>This is bullshit. The  would rather discriminate against gay-Americans than find a cure to #coronavirus. This crisis s…</td>\n",
              "      <td>BobRose08962001</td>\n",
              "      <td></td>\n",
              "    </tr>\n",
              "  </tbody>\n",
              "</table>\n",
              "</div>"
            ],
            "text/plain": [
              "    geo  ...                    location\n",
              "0  None  ...  EU RT=support/worth noting\n",
              "1  None  ...                            \n",
              "2  None  ...                            \n",
              "3  None  ...                     Wakanda\n",
              "4  None  ...                            \n",
              "\n",
              "[5 rows x 4 columns]"
            ]
          },
          "metadata": {
            "tags": []
          },
          "execution_count": 17
        }
      ]
    },
    {
      "cell_type": "code",
      "metadata": {
        "id": "izMpVpp-pBm6",
        "colab_type": "code",
        "colab": {}
      },
      "source": [
        "tweet_df.to_csv(\"tweets.csv\")"
      ],
      "execution_count": 0,
      "outputs": []
    },
    {
      "cell_type": "code",
      "metadata": {
        "id": "SfI6lpMaq9RA",
        "colab_type": "code",
        "outputId": "9d31adb7-2976-46d6-fdf1-ca2d6c27305a",
        "colab": {
          "base_uri": "https://localhost:8080/",
          "height": 34
        }
      },
      "source": [
        "!ls"
      ],
      "execution_count": 19,
      "outputs": [
        {
          "output_type": "stream",
          "text": [
            "sample_data  tweets.csv\n"
          ],
          "name": "stdout"
        }
      ]
    },
    {
      "cell_type": "code",
      "metadata": {
        "id": "S19M65fTr76_",
        "colab_type": "code",
        "colab": {}
      },
      "source": [
        "import spacy"
      ],
      "execution_count": 0,
      "outputs": []
    },
    {
      "cell_type": "code",
      "metadata": {
        "id": "aqCiBIXKsAQn",
        "colab_type": "code",
        "colab": {}
      },
      "source": [
        "nlp=spacy.load(\"en_core_web_sm\")"
      ],
      "execution_count": 0,
      "outputs": []
    },
    {
      "cell_type": "code",
      "metadata": {
        "id": "_gBS8CAcsJhf",
        "colab_type": "code",
        "outputId": "292d2208-87bc-428f-8d86-070845f3708f",
        "colab": {
          "base_uri": "https://localhost:8080/",
          "height": 1000
        }
      },
      "source": [
        "tweet_df['text'].apply(lambda x:[print(\"\\t Text : {},Entity :{}\".format(ent.text,ent.label_)) if(not ent.text.startswith(\"#\")) else \"\" for ent in nlp(x).ents])"
      ],
      "execution_count": 22,
      "outputs": [
        {
          "output_type": "stream",
          "text": [
            "\t Text : Lorestan Medical Sciences University,Entity :ORG\n",
            "\t Text : Iran,Entity :GPE\n",
            "\t Text : The Supreme National Security Council &amp,Entity :ORG\n",
            "\t Text : the Health Ministry's,Entity :ORG\n",
            "\t Text : Secu,Entity :PRODUCT\n",
            "\t Text : 6/ Tonight,Entity :TIME\n",
            "\t Text : one day,Entity :DATE\n",
            "\t Text : Trump,Entity :PERSON\n",
            "\t Text : Iran,Entity :GPE\n",
            "\t Text : WhitePrivilege,Entity :PERSON\n",
            "\t Text : gay-Americans,Entity :NORP\n",
            "\t Text : Mahhi Vij Shares Heartfelt Post,Entity :ORG\n",
            "\t Text : Coronavirus,Entity :PERSON\n",
            "\t Text : 7th,Entity :ORDINAL\n",
            "\t Text : 7th,Entity :ORDINAL\n",
            "\t Text : Ireland,Entity :GPE\n",
            "\t Text : IrelandLockdown,Entity :ORG\n",
            "\t Text : Ireland,Entity :GPE\n",
            "\t Text : Spain,Entity :GPE\n",
            "\t Text : first,Entity :ORDINAL\n",
            "\t Text : six weeks,Entity :DATE\n",
            "\t Text : Trump,Entity :PERSON\n",
            "\t Text : 413,Entity :CARDINAL\n",
            "\t Text : UK,Entity :GPE\n",
            "\t Text : past 24hrs,Entity :DATE\n",
            "\t Text : 20,372,Entity :CARDINAL\n",
            "\t Text : coronavirus,Entity :PERSON\n",
            "\t Text : 5,Entity :CARDINAL\n",
            "\t Text : Spain,Entity :GPE\n",
            "\t Text : 47 mil,Entity :QUANTITY\n",
            "\t Text : 413,Entity :CARDINAL\n",
            "\t Text : UK,Entity :GPE\n",
            "\t Text : past 24hrs,Entity :DATE\n",
            "\t Text : 20,372,Entity :CARDINAL\n",
            "\t Text : MASSIVE,Entity :PERSON\n",
            "\t Text : daily,Entity :DATE\n",
            "\t Text : Italy,Entity :PERSON\n",
            "\t Text : only 260,Entity :CARDINAL\n",
            "\t Text : Trump,Entity :PERSON\n",
            "\t Text : Iran,Entity :GPE\n",
            "\t Text : Coronavirus,Entity :PERSON\n",
            "\t Text : Saudi Arabia,Entity :GPE\n",
            "\t Text : Cuba,Entity :GPE\n",
            "\t Text : South Africa,Entity :GPE\n",
            "\t Text : March,Entity :DATE\n",
            "\t Text : William Barr,Entity :PERSON\n",
            "\t Text : U.S.,Entity :GPE\n",
            "\t Text : Kangaroo Point #APOD,Entity :ORG\n",
            "\t Text : Brisbane,Entity :GPE\n",
            "\t Text : Trump,Entity :PERSON\n",
            "\t Text : 2020,Entity :DATE\n",
            "\t Text : Democrats,Entity :NORP\n",
            "\t Text : 2,Entity :CARDINAL\n",
            "\t Text : Corona pandemic &amp,Entity :ORG\n",
            "\t Text : 17,Entity :CARDINAL\n",
            "\t Text : Russia,Entity :GPE\n",
            "\t Text : Krasnoyarsk,Entity :GPE\n",
            "\t Text : coronavirus,Entity :PERSON\n",
            "\t Text : Corona,Entity :PERSON\n",
            "\t Text : Americans,Entity :NORP\n",
            "\t Text : the United States,Entity :GPE\n",
            "\t Text : China,Entity :GPE\n",
            "\t Text : 🇸,Entity :ORG\n",
            "\t Text : China,Entity :GPE\n",
            "\t Text : Philippines,Entity :GPE\n",
            "\t Text : CoronaVirus,Entity :PERSON\n",
            "\t Text : Newark Road,Entity :FAC\n",
            "\t Text : North Hykeham,Entity :PERSON\n",
            "\t Text : Lincoln,Entity :ORG\n",
            "\t Text : Julian P Guffogg,Entity :PERSON\n",
            "\t Text : RAF,Entity :ORG\n",
            "\t Text : Kinloss,Entity :GPE\n",
            "\t Text : coronavirus,Entity :PERSON\n",
            "\t Text : Scotland,Entity :GPE\n",
            "\t Text : THREAD,Entity :ORG\n",
            "\t Text : 1/2 #,Entity :PERCENT\n",
            "\t Text : 26,Entity :CARDINAL\n",
            "\t Text : April 2020,Entity :DATE\n",
            "\t Text : 🔵 Transport,Entity :ORG\n",
            "\t Text : Great Britain,Entity :GPE\n",
            "\t Text : 🔵 Apple,Entity :PERSON\n",
            "\t Text : 8,Entity :CARDINAL\n",
            "\t Text : 413,Entity :CARDINAL\n",
            "\t Text : UK,Entity :GPE\n",
            "\t Text : past 24hrs,Entity :DATE\n",
            "\t Text : 20,372,Entity :CARDINAL\n",
            "\t Text : CORONAVIRUS,Entity :PERSON\n",
            "\t Text : LOUISIANA,Entity :GPE\n",
            "\t Text : 26,773,Entity :CARDINAL\n",
            "\t Text : 261,Entity :CARDINAL\n",
            "\t Text : yesterday,Entity :DATE\n",
            "\t Text : 1,670,Entity :CARDINAL\n",
            "\t Text : 26,Entity :CARDINAL\n",
            "\t Text : yesterday,Entity :DATE\n",
            "\t Text : the Bolivar Peninsula,Entity :LOC\n",
            "\t Text : yesterday,Entity :DATE\n",
            "\t Text : today,Entity :DATE\n",
            "\t Text : Democrats,Entity :NORP\n",
            "\t Text : years,Entity :DATE\n",
            "\t Text : Black Lives Matte,Entity :PERSON\n",
            "\t Text : Democrats,Entity :NORP\n",
            "\t Text : years,Entity :DATE\n",
            "\t Text : Black Lives Matte,Entity :PERSON\n",
            "\t Text : Trudeau/Tam/Hajdu et al,Entity :ORG\n",
            "\t Text : April 26, 2020,Entity :DATE\n",
            "\t Text : Coronavirus,Entity :PERSON\n",
            "\t Text : Telangana,Entity :GPE\n",
            "\t Text : Chinese,Entity :NORP\n",
            "\t Text : Reggae,Entity :PERSON\n",
            "\t Text : CoronaVirus,Entity :PERSON\n",
            "\t Text : Muslim,Entity :NORP\n",
            "\t Text : Democrats,Entity :NORP\n",
            "\t Text : years,Entity :DATE\n",
            "\t Text : Black Lives Matte,Entity :PERSON\n",
            "\t Text : Black and Brown Americans,Entity :LAW\n",
            "\t Text : Michigan,Entity :GPE\n",
            "\t Text : Sunday,Entity :DATE\n",
            "\t Text : the State of Black Women and Girls,Entity :FAC\n",
            "\t Text : US,Entity :GPE\n",
            "\t Text : coronavirus,Entity :PERSON\n",
            "\t Text : China,Entity :GPE\n",
            "\t Text : Watch,Entity :ORG\n",
            "\t Text : Coronavirus,Entity :PERSON\n",
            "\t Text : Democrats,Entity :NORP\n",
            "\t Text : years,Entity :DATE\n",
            "\t Text : Black Lives Matte,Entity :PERSON\n",
            "\t Text : 4,Entity :CARDINAL\n",
            "\t Text : Vijayawada,Entity :PERSON\n",
            "\t Text : China,Entity :GPE\n",
            "\t Text : 60,Entity :CARDINAL\n",
            "\t Text : India,Entity :GPE\n",
            "\t Text : 🇳,Entity :ORG\n",
            "\t Text : one month,Entity :DATE\n",
            "\t Text : Johnson,Entity :PERSON\n",
            "\t Text : Tory,Entity :GPE\n",
            "\t Text : 10,Entity :CARDINAL\n",
            "\t Text : Un,Entity :ORG\n",
            "\t Text : 26Abril,Entity :MONEY\n",
            "\t Text : 6,Entity :CARDINAL\n",
            "\t Text : COVID19,Entity :MONEY\n",
            "\t Text : 2-14 days,Entity :DATE\n",
            "\t Text : coronavirus,Entity :PERSON\n",
            "\t Text : ▶️Fever,Entity :TIME\n",
            "\t Text : Belgium,Entity :GPE\n",
            "\t Text : 2,037,Entity :MONEY\n",
            "\t Text : CoronaVirus,Entity :PERSON\n",
            "\t Text : Denmark,Entity :GPE\n",
            "\t Text : Sweden,Entity :GPE\n",
            "\t Text : UK,Entity :GPE\n",
            "\t Text : Trump,Entity :PERSON\n",
            "\t Text : 2020,Entity :DATE\n",
            "\t Text : Democrats,Entity :NORP\n",
            "\t Text : 6,Entity :CARDINAL\n",
            "\t Text : COVID19,Entity :MONEY\n",
            "\t Text : 2-14 days,Entity :DATE\n",
            "\t Text : coronavirus,Entity :PERSON\n",
            "\t Text : ▶️Fever,Entity :TIME\n",
            "\t Text : CHINA AFFECTS US ALL,Entity :ORG\n",
            "\t Text : 413,Entity :CARDINAL\n",
            "\t Text : UK,Entity :GPE\n",
            "\t Text : past 24hrs,Entity :DATE\n",
            "\t Text : 20,372,Entity :CARDINAL\n",
            "\t Text : Fmr Stanford,Entity :PERSON\n",
            "\t Text : 4/24/20,Entity :CARDINAL\n",
            "\t Text : 👇,Entity :CARDINAL\n",
            "\t Text : 60,Entity :CARDINAL\n",
            "\t Text : India,Entity :GPE\n",
            "\t Text : 🇳,Entity :ORG\n",
            "\t Text : one month,Entity :DATE\n",
            "\t Text : Rapid TestKit,Entity :ORG\n",
            "\t Text : CoronaVirus,Entity :PERSON\n",
            "\t Text : COVID2019,Entity :MONEY\n",
            "\t Text : Mum,Entity :PERSON\n",
            "\t Text : every day,Entity :DATE\n",
            "\t Text : day,Entity :DATE\n",
            "\t Text : 41 #coronavirus,Entity :MONEY\n",
            "\t Text : Wisconsin,Entity :PERSON\n",
            "\t Text : Israel,Entity :GPE\n",
            "\t Text : 100%,Entity :PERCENT\n",
            "\t Text : Astane Ashrafie,Entity :ORG\n",
            "\t Text : Gilan,Entity :PERSON\n",
            "\t Text : Iran,Entity :GPE\n",
            "\t Text : Russia,Entity :GPE\n",
            "\t Text : Krasnoyarsk,Entity :GPE\n",
            "\t Text : Coronavirus,Entity :PERSON\n",
            "\t Text : Yemenis,Entity :NORP\n",
            "\t Text : Coronavirus,Entity :PERSON\n",
            "\t Text : AP,Entity :ORG\n",
            "\t Text : 151,Entity :CARDINAL\n",
            "\t Text : Lorestan Medical Sciences University,Entity :ORG\n",
            "\t Text : Iran,Entity :GPE\n",
            "\t Text : The Supreme National Security Council &amp,Entity :ORG\n",
            "\t Text : the Health Ministry's,Entity :ORG\n",
            "\t Text : Secu,Entity :PRODUCT\n",
            "\t Text : Feb,Entity :PERSON\n",
            "\t Text : April 2020,Entity :DATE\n",
            "\t Text : At least 30,Entity :CARDINAL\n",
            "\t Text : New Yorkers,Entity :NORP\n",
            "\t Text : the 18 hours,Entity :TIME\n",
            "\t Text : Tiger King,Entity :WORK_OF_ART\n",
            "\t Text : one,Entity :CARDINAL\n",
            "\t Text : FBI,Entity :ORG\n",
            "\t Text : Coronavirus,Entity :PERSON\n",
            "\t Text : The FB,Entity :WORK_OF_ART\n",
            "\t Text : Dictator Xi,Entity :PERSON\n",
            "\t Text : China,Entity :GPE\n",
            "\t Text : China,Entity :GPE\n",
            "\t Text : Pakistan,Entity :GPE\n",
            "\t Text : Chinese,Entity :NORP\n",
            "\t Text : 413,Entity :CARDINAL\n",
            "\t Text : UK,Entity :GPE\n",
            "\t Text : past 24hrs,Entity :DATE\n",
            "\t Text : 20,372,Entity :CARDINAL\n",
            "\t Text : Kim Jong-Un,Entity :PERSON\n",
            "\t Text : Trump,Entity :PERSON\n",
            "\t Text : 2020,Entity :DATE\n",
            "\t Text : Democrats,Entity :NORP\n",
            "\t Text : 2 months ago,Entity :DATE\n",
            "\t Text : today,Entity :DATE\n",
            "\t Text : 2,000,000,Entity :CARDINAL\n",
            "\t Text : Americans,Entity :NORP\n",
            "\t Text : Politiker Krebs,Entity :PERSON\n",
            "\t Text : Übergewicht,Entity :GPE\n",
            "\t Text : 🤦,Entity :CARDINAL\n",
            "\t Text : Karnataka,Entity :GPE\n",
            "\t Text : Trump,Entity :PERSON\n",
            "\t Text : DPA,Entity :ORG\n"
          ],
          "name": "stdout"
        },
        {
          "output_type": "execute_result",
          "data": {
            "text/plain": [
              "0     [None, None, None, None, None]\n",
              "1                     [None, , None]\n",
              "2                       [None, None]\n",
              "3                             [None]\n",
              "4                             [None]\n",
              "                   ...              \n",
              "95                                []\n",
              "96          [None, None, None, None]\n",
              "97                [None, None, None]\n",
              "98                            [None]\n",
              "99                      [None, None]\n",
              "Name: text, Length: 100, dtype: object"
            ]
          },
          "metadata": {
            "tags": []
          },
          "execution_count": 22
        }
      ]
    },
    {
      "cell_type": "code",
      "metadata": {
        "id": "iSrE0YEau9Ly",
        "colab_type": "code",
        "outputId": "1ab635e1-152e-4c36-c2a5-29c299c95152",
        "colab": {
          "base_uri": "https://localhost:8080/",
          "height": 71
        }
      },
      "source": [
        "import nltk\n",
        "from nltk.sentiment.vader import SentimentIntensityAnalyzer"
      ],
      "execution_count": 23,
      "outputs": [
        {
          "output_type": "stream",
          "text": [
            "/usr/local/lib/python3.6/dist-packages/nltk/twitter/__init__.py:20: UserWarning: The twython library has not been installed. Some functionality from the twitter package will not be available.\n",
            "  warnings.warn(\"The twython library has not been installed. \"\n"
          ],
          "name": "stderr"
        }
      ]
    },
    {
      "cell_type": "code",
      "metadata": {
        "id": "B_Bd-s9Uxapg",
        "colab_type": "code",
        "outputId": "1ef4ab38-afd8-43c7-c13f-7ceed61dbbe8",
        "colab": {
          "base_uri": "https://localhost:8080/",
          "height": 51
        }
      },
      "source": [
        "nltk.download('vader_lexicon')"
      ],
      "execution_count": 24,
      "outputs": [
        {
          "output_type": "stream",
          "text": [
            "[nltk_data] Downloading package vader_lexicon to /root/nltk_data...\n"
          ],
          "name": "stdout"
        },
        {
          "output_type": "execute_result",
          "data": {
            "text/plain": [
              "True"
            ]
          },
          "metadata": {
            "tags": []
          },
          "execution_count": 24
        }
      ]
    },
    {
      "cell_type": "code",
      "metadata": {
        "id": "wky2hvUixrR8",
        "colab_type": "code",
        "colab": {}
      },
      "source": [
        "sid=SentimentIntensityAnalyzer()"
      ],
      "execution_count": 0,
      "outputs": []
    },
    {
      "cell_type": "code",
      "metadata": {
        "id": "_YvpkiKYx0it",
        "colab_type": "code",
        "colab": {}
      },
      "source": [
        "tweet_df[\"sentiment\"]=tweet_df[\"text\"].apply(lambda x:sid.polarity_scores(x))"
      ],
      "execution_count": 0,
      "outputs": []
    },
    {
      "cell_type": "code",
      "metadata": {
        "id": "7hiHWF9Oyan9",
        "colab_type": "code",
        "outputId": "33e1b1a1-b5e8-47c7-92ed-710bf0824b31",
        "colab": {
          "base_uri": "https://localhost:8080/",
          "height": 589
        }
      },
      "source": [
        "tweet_df.head(800)"
      ],
      "execution_count": 27,
      "outputs": [
        {
          "output_type": "execute_result",
          "data": {
            "text/html": [
              "<div>\n",
              "<style scoped>\n",
              "    .dataframe tbody tr th:only-of-type {\n",
              "        vertical-align: middle;\n",
              "    }\n",
              "\n",
              "    .dataframe tbody tr th {\n",
              "        vertical-align: top;\n",
              "    }\n",
              "\n",
              "    .dataframe thead th {\n",
              "        text-align: right;\n",
              "    }\n",
              "</style>\n",
              "<table border=\"1\" class=\"dataframe\">\n",
              "  <thead>\n",
              "    <tr style=\"text-align: right;\">\n",
              "      <th></th>\n",
              "      <th>geo</th>\n",
              "      <th>text</th>\n",
              "      <th>name</th>\n",
              "      <th>location</th>\n",
              "      <th>sentiment</th>\n",
              "    </tr>\n",
              "  </thead>\n",
              "  <tbody>\n",
              "    <tr>\n",
              "      <th>0</th>\n",
              "      <td>None</td>\n",
              "      <td>Head of Lorestan Medical Sciences University, W #Iran\\n\"The Supreme National Security Council &amp;amp; the Health Ministry's Secu…</td>\n",
              "      <td>EliavAbey</td>\n",
              "      <td>EU RT=support/worth noting</td>\n",
              "      <td>{'neg': 0.0, 'neu': 0.714, 'pos': 0.286, 'compound': 0.7184}</td>\n",
              "    </tr>\n",
              "    <tr>\n",
              "      <th>1</th>\n",
              "      <td>None</td>\n",
              "      <td>6/ Tonight’s assembly shows that #coronavirus does not kill the spirit of #hongkongprotests. The plague will end one day.…</td>\n",
              "      <td>heunggongyangy</td>\n",
              "      <td></td>\n",
              "      <td>{'neg': 0.068, 'neu': 0.764, 'pos': 0.168, 'compound': 0.4973}</td>\n",
              "    </tr>\n",
              "    <tr>\n",
              "      <th>2</th>\n",
              "      <td>None</td>\n",
              "      <td>The Trump administration has been right to reject general sanctions relief. Iran's regime has no interest in its people's…</td>\n",
              "      <td>Jahbalon</td>\n",
              "      <td></td>\n",
              "      <td>{'neg': 0.188, 'neu': 0.577, 'pos': 0.235, 'compound': 0.296}</td>\n",
              "    </tr>\n",
              "    <tr>\n",
              "      <th>3</th>\n",
              "      <td>None</td>\n",
              "      <td>White folks have turned #coronavirus into a #WhitePrivilege holiday keep your black ass in the house &amp;amp; stay safe!!!</td>\n",
              "      <td>MrMiddleFinger</td>\n",
              "      <td>Wakanda</td>\n",
              "      <td>{'neg': 0.14, 'neu': 0.601, 'pos': 0.259, 'compound': 0.4545}</td>\n",
              "    </tr>\n",
              "    <tr>\n",
              "      <th>4</th>\n",
              "      <td>None</td>\n",
              "      <td>This is bullshit. The  would rather discriminate against gay-Americans than find a cure to #coronavirus. This crisis s…</td>\n",
              "      <td>BobRose08962001</td>\n",
              "      <td></td>\n",
              "      <td>{'neg': 0.345, 'neu': 0.655, 'pos': 0.0, 'compound': -0.836}</td>\n",
              "    </tr>\n",
              "    <tr>\n",
              "      <th>...</th>\n",
              "      <td>...</td>\n",
              "      <td>...</td>\n",
              "      <td>...</td>\n",
              "      <td>...</td>\n",
              "      <td>...</td>\n",
              "    </tr>\n",
              "    <tr>\n",
              "      <th>95</th>\n",
              "      <td>None</td>\n",
              "      <td>Here’s a dog that isn’t barking: Where are the left-leaning news sources asking to interview me on my very public and w…</td>\n",
              "      <td>Veegerbeeper</td>\n",
              "      <td>Phoenix, AZ</td>\n",
              "      <td>{'neg': 0.0, 'neu': 1.0, 'pos': 0.0, 'compound': 0.0}</td>\n",
              "    </tr>\n",
              "    <tr>\n",
              "      <th>96</th>\n",
              "      <td>None</td>\n",
              "      <td>2 months ago today, as  was shrieking that 2,000,000 Americans wer…</td>\n",
              "      <td>AttyJ</td>\n",
              "      <td>San Francisco, CA</td>\n",
              "      <td>{'neg': 0.0, 'neu': 1.0, 'pos': 0.0, 'compound': 0.0}</td>\n",
              "    </tr>\n",
              "    <tr>\n",
              "      <th>97</th>\n",
              "      <td>None</td>\n",
              "      <td>Wenn ein Politiker Krebs, Übergewicht und das #coronavirus  gleichsetzt.🤦‍♂️\\n\"That's totally ridiculous. Then we sh…</td>\n",
              "      <td>Polyphem10</td>\n",
              "      <td>Direkt über dem Mittelpunkt der Erde</td>\n",
              "      <td>{'neg': 0.166, 'neu': 0.834, 'pos': 0.0, 'compound': -0.4201}</td>\n",
              "    </tr>\n",
              "    <tr>\n",
              "      <th>98</th>\n",
              "      <td>None</td>\n",
              "      <td>Some people are so innocent that they don’t even know how to use hand sanitizer. This happened in Karnataka.…</td>\n",
              "      <td>iakashnarayanan</td>\n",
              "      <td>Chennai, India</td>\n",
              "      <td>{'neg': 0.0, 'neu': 0.729, 'pos': 0.271, 'compound': 0.7443}</td>\n",
              "    </tr>\n",
              "    <tr>\n",
              "      <th>99</th>\n",
              "      <td>None</td>\n",
              "      <td>President Trump is using the DPA to expand #coronavirus testing technologies and increase capacity.\\n\\n“We started just fiv…</td>\n",
              "      <td>PatriotUSA2020</td>\n",
              "      <td>United States</td>\n",
              "      <td>{'neg': 0.0, 'neu': 0.777, 'pos': 0.223, 'compound': 0.5574}</td>\n",
              "    </tr>\n",
              "  </tbody>\n",
              "</table>\n",
              "<p>100 rows × 5 columns</p>\n",
              "</div>"
            ],
            "text/plain": [
              "     geo  ...                                                       sentiment\n",
              "0   None  ...    {'neg': 0.0, 'neu': 0.714, 'pos': 0.286, 'compound': 0.7184}\n",
              "1   None  ...  {'neg': 0.068, 'neu': 0.764, 'pos': 0.168, 'compound': 0.4973}\n",
              "2   None  ...   {'neg': 0.188, 'neu': 0.577, 'pos': 0.235, 'compound': 0.296}\n",
              "3   None  ...   {'neg': 0.14, 'neu': 0.601, 'pos': 0.259, 'compound': 0.4545}\n",
              "4   None  ...    {'neg': 0.345, 'neu': 0.655, 'pos': 0.0, 'compound': -0.836}\n",
              "..   ...  ...                                                             ...\n",
              "95  None  ...           {'neg': 0.0, 'neu': 1.0, 'pos': 0.0, 'compound': 0.0}\n",
              "96  None  ...           {'neg': 0.0, 'neu': 1.0, 'pos': 0.0, 'compound': 0.0}\n",
              "97  None  ...   {'neg': 0.166, 'neu': 0.834, 'pos': 0.0, 'compound': -0.4201}\n",
              "98  None  ...    {'neg': 0.0, 'neu': 0.729, 'pos': 0.271, 'compound': 0.7443}\n",
              "99  None  ...    {'neg': 0.0, 'neu': 0.777, 'pos': 0.223, 'compound': 0.5574}\n",
              "\n",
              "[100 rows x 5 columns]"
            ]
          },
          "metadata": {
            "tags": []
          },
          "execution_count": 27
        }
      ]
    },
    {
      "cell_type": "code",
      "metadata": {
        "id": "1537XsImzLdb",
        "colab_type": "code",
        "colab": {}
      },
      "source": [
        ""
      ],
      "execution_count": 0,
      "outputs": []
    },
    {
      "cell_type": "code",
      "metadata": {
        "id": "tAYVgak_0LIK",
        "colab_type": "code",
        "colab": {}
      },
      "source": [
        ""
      ],
      "execution_count": 0,
      "outputs": []
    },
    {
      "cell_type": "code",
      "metadata": {
        "id": "cNgDTTuV3O-4",
        "colab_type": "code",
        "colab": {}
      },
      "source": [
        ""
      ],
      "execution_count": 0,
      "outputs": []
    },
    {
      "cell_type": "code",
      "metadata": {
        "id": "SyO7D4CO0TT0",
        "colab_type": "code",
        "colab": {}
      },
      "source": [
        ""
      ],
      "execution_count": 0,
      "outputs": []
    },
    {
      "cell_type": "code",
      "metadata": {
        "id": "yNHlriBJ20il",
        "colab_type": "code",
        "colab": {}
      },
      "source": [
        ""
      ],
      "execution_count": 0,
      "outputs": []
    },
    {
      "cell_type": "code",
      "metadata": {
        "id": "aX5mBx4VJg6q",
        "colab_type": "code",
        "colab": {}
      },
      "source": [
        ""
      ],
      "execution_count": 0,
      "outputs": []
    }
  ]
}